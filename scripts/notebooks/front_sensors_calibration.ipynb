{
 "cells": [
  {
   "cell_type": "code",
   "execution_count": null,
   "metadata": {
    "scrolled": true
   },
   "outputs": [],
   "source": [
    "import json\n",
    "import math\n",
    "from pathlib import Path\n",
    "import pickle\n",
    "import re\n",
    "\n",
    "import matplotlib.pyplot as plt\n",
    "import numpy\n",
    "import pandas\n",
    "from pandas import DataFrame\n",
    "from scipy.optimize import curve_fit\n",
    "\n",
    "\n",
    "# Physical dimensions of the mouse\n",
    "setup_source = Path('../../src/setup.h').read_text()\n",
    "MOUSE_TAIL = float(re.findall('MOUSE_TAIL (.*)\\n', setup_source)[0])\n",
    "MOUSE_HEAD = float(re.findall('MOUSE_HEAD (.*)\\n', setup_source)[0])\n",
    "\n",
    "# Where to start and stop the curve fit\n",
    "CURVE_START = MOUSE_HEAD\n",
    "CURVE_STOP = 0.27\n",
    "\n",
    "# Where to start and stop the linear fit\n",
    "LINEAR_START = MOUSE_HEAD + 0.01\n",
    "LINEAR_STOP = 0.20\n",
    "\n",
    "\n",
    "def log_as_dataframe(log):\n",
    "    columns = ['timestamp', 'level', 'source', 'function', 'data']\n",
    "    df = pandas.DataFrame(log, columns=columns)\n",
    "    return df.set_index('timestamp').sort_index()\n",
    "\n",
    "\n",
    "df = log_as_dataframe(pickle.load(open('../log.pkl', 'rb')))\n",
    "df = df[df['function'] == 'log_front_sensors_calibration']\n",
    "data = []\n",
    "for value in df['data'].values:\n",
    "    try:\n",
    "        value = json.loads(value.replace('nan', 'NaN'))\n",
    "        data.append(value)\n",
    "    except json.JSONDecodeError:\n",
    "        pass\n",
    "df = DataFrame(data)\n",
    "df['left_raw'] = df['left_raw_on'] - df['left_raw_off']\n",
    "df['right_raw'] = df['right_raw_on'] - df['right_raw_off']\n",
    "df['micrometers'] = df['micrometers'] - df['micrometers'][0]\n",
    "df['micrometers'] = (180 * 2 - 12 - MOUSE_TAIL * 1000) * 1000 - df['micrometers']\n",
    "df['meters'] = df['micrometers'] / 1000000\n",
    "df = df[(df['meters'] > CURVE_START) & (df['meters'] < CURVE_STOP)]\n",
    "df = df.set_index('meters')\n",
    "df = df.sort_index(ascending=False)\n",
    "df.head()"
   ]
  },
  {
   "cell_type": "code",
   "execution_count": null,
   "metadata": {},
   "outputs": [],
   "source": [
    "# Matplotlib configuration\n",
    "%matplotlib inline\n",
    "plt.style.use('seaborn')"
   ]
  },
  {
   "cell_type": "code",
   "execution_count": null,
   "metadata": {
    "scrolled": false
   },
   "outputs": [],
   "source": [
    "df['reference_distance'] = df.index.values\n",
    "df['left_distance_error'] = df['left_distance'] - df['reference_distance']\n",
    "df['right_distance_error'] = df['right_distance'] - df['reference_distance']\n",
    "df['zero_distance_error'] = 0\n",
    "\n",
    "df[['left_distance_error', 'right_distance_error', 'zero_distance_error']].plot()\n",
    "df[['left_raw', 'right_raw']].plot()\n",
    "df[['left_raw_on', 'right_raw_on']].plot()\n",
    "df[['left_raw_off', 'right_raw_off']].plot()"
   ]
  },
  {
   "cell_type": "code",
   "execution_count": null,
   "metadata": {
    "scrolled": true
   },
   "outputs": [],
   "source": [
    "def raw_to_distances(raw, a, b):\n",
    "    return a / numpy.log(raw) - b\n",
    "\n",
    "\n",
    "linear_df = df[(df.index > LINEAR_START) & (df.index < LINEAR_STOP)]\n",
    "\n",
    "(left_a, left_b), _ = curve_fit(raw_to_distances,\n",
    "                                linear_df['left_raw'].values,\n",
    "                                linear_df.index.values)\n",
    "(right_a, right_b), _ = curve_fit(raw_to_distances,\n",
    "                                  linear_df['right_raw'].values,\n",
    "                                  linear_df.index.values)\n",
    "\n",
    "round_to = 3\n",
    "print('#define SENSOR_FRONT_LEFT_A', round(left_a, round_to))\n",
    "print('#define SENSOR_FRONT_LEFT_B', round(left_b, round_to))\n",
    "print('#define SENSOR_FRONT_RIGHT_A', round(right_a, round_to))\n",
    "print('#define SENSOR_FRONT_RIGHT_B', round(right_b, round_to))"
   ]
  },
  {
   "cell_type": "code",
   "execution_count": null,
   "metadata": {},
   "outputs": [],
   "source": [
    "df['left_distance_fit'] = raw_to_distances(df['left_raw'].values, left_a, left_b)\n",
    "df['right_distance_fit'] = raw_to_distances(df['right_raw'].values, right_a, right_b)\n",
    "df['left_distance_fit_error'] = df['left_distance_fit'] - df['reference_distance']\n",
    "df['right_distance_fit_error'] = df['right_distance_fit'] - df['reference_distance']\n",
    "\n",
    "df[['left_distance_fit_error', 'right_distance_fit_error', 'zero_distance_error']].plot()"
   ]
  }
 ],
 "metadata": {
  "kernelspec": {
   "display_name": "Python 3",
   "language": "python",
   "name": "python3"
  },
  "language_info": {
   "codemirror_mode": {
    "name": "ipython",
    "version": 3
   },
   "file_extension": ".py",
   "mimetype": "text/x-python",
   "name": "python",
   "nbconvert_exporter": "python",
   "pygments_lexer": "ipython3",
   "version": "3.6.2"
  }
 },
 "nbformat": 4,
 "nbformat_minor": 2
}
