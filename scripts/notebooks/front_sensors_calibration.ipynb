{
 "cells": [
  {
   "cell_type": "code",
   "execution_count": null,
   "metadata": {
    "scrolled": true
   },
   "outputs": [],
   "source": [
    "%matplotlib inline\n",
    "\n",
    "import json\n",
    "import pickle\n",
    "import pandas\n",
    "import numpy\n",
    "import matplotlib.pyplot as plt\n",
    "import math\n",
    "from scipy.optimize import curve_fit\n",
    "\n",
    "from pandas import DataFrame\n",
    "\n",
    "\n",
    "def log_as_dataframe(log):\n",
    "    columns = ['timestamp', 'level', 'source', 'function', 'data']\n",
    "    df = pandas.DataFrame(log, columns=columns)\n",
    "    return df.set_index('timestamp').sort_index()\n",
    "\n",
    "\n",
    "df = log_as_dataframe(pickle.load(open('../log.pkl', 'rb')))\n",
    "df = df[df['function'] == 'log_front_sensors_calibration']\n",
    "df = DataFrame([json.loads(x) for x in df['data'].values])\n",
    "df['left_raw'] = df['left_raw_on'] - df['left_raw_off']\n",
    "df['right_raw'] = df['right_raw_on'] - df['right_raw_off']\n",
    "df['micrometers'] = df['micrometers'] - df['micrometers'][0]\n",
    "df['micrometers'] = (180 * 2 - 12 - 36) * 1000 - df['micrometers']\n",
    "df = df[(df['micrometers'] > 80000) & (df['micrometers'] < 270000)]\n",
    "df = df.set_index('micrometers')\n",
    "df = df.sort_index(ascending=False)\n",
    "df.head()"
   ]
  },
  {
   "cell_type": "code",
   "execution_count": null,
   "metadata": {
    "collapsed": true
   },
   "outputs": [],
   "source": [
    "distance = df.index.values / 1000000\n",
    "samples = list(range(len(df.index)))"
   ]
  },
  {
   "cell_type": "code",
   "execution_count": null,
   "metadata": {},
   "outputs": [],
   "source": [
    "x = numpy.array(distance[::])\n",
    "y_FR = numpy.array(df['right_raw'][::])\n",
    "y_FL = numpy.array(df['left_raw'][::])\n",
    "plt.plot(x, y_FL)\n",
    "plt.show()"
   ]
  },
  {
   "cell_type": "code",
   "execution_count": null,
   "metadata": {},
   "outputs": [],
   "source": [
    "popt_FR, pcov_FR = curve_fit(lambda t,a,b: numpy.exp(a/(b+t)),  x,  y_FR)\n",
    "popt_FL, pcov_FL = curve_fit(lambda t,a,b: numpy.exp(a/(b+t)),  x,  y_FL)"
   ]
  },
  {
   "cell_type": "code",
   "execution_count": null,
   "metadata": {},
   "outputs": [],
   "source": [
    "f,(ax1,ax2) = plt.subplots(2, sharex=True, sharey= True)\n",
    "ax1.plot(distance,df['right_raw'])\n",
    "ax2.plot(distance,df['left_raw'])\n",
    "def fit_FR(x):\n",
    "    return numpy.exp(popt_FR[0]/(popt_FR[1]+x))\n",
    "ax1.plot(x, fit_FR(x))\n",
    "def fit_FL(x):\n",
    "    return numpy.exp(popt_FL[0]/(popt_FL[1]+x))\n",
    "ax2.plot(x, fit_FL(x))\n",
    "plt.show()\n",
    "print('FR_a {}, FR_b {}'.format(popt_FR[0],popt_FR[1]))\n",
    "print('FL_a {}, FL_b {}'.format(popt_FL[0],popt_FL[1]))"
   ]
  },
  {
   "cell_type": "code",
   "execution_count": null,
   "metadata": {
    "collapsed": true
   },
   "outputs": [],
   "source": [
    "df['front_left_distance'].plot()"
   ]
  },
  {
   "cell_type": "code",
   "execution_count": null,
   "metadata": {},
   "outputs": [],
   "source": [
    "df['left_raw_on'].plot()"
   ]
  },
  {
   "cell_type": "code",
   "execution_count": null,
   "metadata": {
    "collapsed": true
   },
   "outputs": [],
   "source": [
    "df['left_raw_on'].head(50)"
   ]
  },
  {
   "cell_type": "code",
   "execution_count": null,
   "metadata": {
    "collapsed": true
   },
   "outputs": [],
   "source": [
    "df['right_raw_on'].plot()"
   ]
  }
 ],
 "metadata": {
  "kernelspec": {
   "display_name": "Python 3",
   "language": "python",
   "name": "python3"
  },
  "language_info": {
   "codemirror_mode": {
    "name": "ipython",
    "version": 3
   },
   "file_extension": ".py",
   "mimetype": "text/x-python",
   "name": "python",
   "nbconvert_exporter": "python",
   "pygments_lexer": "ipython3",
   "version": "3.6.3"
  }
 },
 "nbformat": 4,
 "nbformat_minor": 2
}
