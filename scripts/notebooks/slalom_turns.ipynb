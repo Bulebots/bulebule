{
 "cells": [
  {
   "cell_type": "markdown",
   "metadata": {},
   "source": [
    "# Slalom turns"
   ]
  },
  {
   "cell_type": "code",
   "execution_count": null,
   "metadata": {},
   "outputs": [],
   "source": [
    "%matplotlib inline"
   ]
  },
  {
   "cell_type": "code",
   "execution_count": null,
   "metadata": {},
   "outputs": [],
   "source": [
    "from matplotlib import pyplot\n",
    "\n",
    "\n",
    "pyplot.style.use('seaborn')"
   ]
  },
  {
   "cell_type": "code",
   "execution_count": null,
   "metadata": {},
   "outputs": [],
   "source": [
    "from dataclasses import dataclass\n",
    "\n",
    "from numpy import cos\n",
    "from numpy import pi\n",
    "from numpy import sin\n",
    "from numpy import sign\n",
    "from numpy import sqrt\n",
    "from pandas import DataFrame\n",
    "\n",
    "\n",
    "@dataclass\n",
    "class RobotPhysics:\n",
    "    mass: float\n",
    "    moment_of_inertia: float\n",
    "    wheels_separation: float\n",
    "    max_angular_velocity: float\n",
    "\n",
    "\n",
    "def turn_profile(angle, max_angular_velocity,\n",
    "                 max_angular_acceleration, time_period):\n",
    "    duration = max_angular_velocity / max_angular_acceleration * pi\n",
    "    transition_angle = duration * max_angular_velocity / pi\n",
    "    arc = (abs(angle) - 2 * transition_angle) / max_angular_velocity\n",
    "    transition = duration / 2\n",
    "    max_angular_velocity = max_angular_velocity * sign(angle)\n",
    "\n",
    "    angular_velocity = [0]\n",
    "    time = [0]\n",
    "    while True:\n",
    "        if time[-1] >= 2 * transition + arc:\n",
    "            break\n",
    "        new_angular_velocity = max_angular_velocity\n",
    "        if time[-1] < transition:\n",
    "            factor = time[-1] / transition\n",
    "            new_angular_velocity *= sin(factor * pi / 2)\n",
    "        elif time[-1] >= transition + arc:\n",
    "            factor = (time[-1] - arc) / transition\n",
    "            new_angular_velocity *= sin(factor * pi / 2)\n",
    "        angular_velocity.append(new_angular_velocity)\n",
    "        time.append(time[-1] + time_period)\n",
    "\n",
    "    profile = DataFrame({'angular_velocity': angular_velocity[1:]})\n",
    "    profile['arc'] = profile['angular_velocity'] == max_angular_velocity\n",
    "    return profile\n",
    "\n",
    "\n",
    "def complete_profile(profile, radius, linear_velocity, robot, time_period):\n",
    "    profile['radius'] = radius\n",
    "    profile['period'] = time_period\n",
    "    profile['linear_velocity'] = linear_velocity\n",
    "    profile['angle'] = (profile['angular_velocity'] * profile['period']).cumsum()\n",
    "    profile['x'] = (profile['linear_velocity'] * cos(profile['angle']) * profile['period']).cumsum()\n",
    "    profile['y'] = (profile['linear_velocity'] * sin(profile['angle']) * profile['period']).cumsum()\n",
    "    profile['centrifugal_force'] = robot.mass * profile['linear_velocity'] * profile['angular_velocity'] / 2\n",
    "    angular_acceleration = profile['angular_velocity'].diff() / profile['period']\n",
    "    profile['angular_acceleration_force'] = \\\n",
    "        (robot.moment_of_inertia * angular_acceleration / robot.wheels_separation).abs()\n",
    "    profile['total_force'] = sqrt(profile['centrifugal_force'] ** 2 + profile['angular_acceleration_force'] ** 2)\n",
    "    profile['time'] = profile['period'].cumsum()\n",
    "    profile = profile.set_index('time')\n",
    "    return profile\n",
    "\n",
    "\n",
    "def dynamic_profile(angle, force, radius, robot, time_period):\n",
    "    linear_velocity = sqrt(2 * force * radius / robot.mass)\n",
    "    max_angular_velocity = linear_velocity / radius\n",
    "    max_angular_velocity = min(max_angular_velocity,\n",
    "                               robot.max_angular_velocity)\n",
    "    max_angular_acceleration = force * robot.wheels_separation / robot.moment_of_inertia\n",
    "    max_angular_velocity_transition = sqrt(abs(angle) / 2 * max_angular_acceleration)\n",
    "    if max_angular_velocity_transition < max_angular_velocity:\n",
    "        raise ValueError\n",
    "    profile = turn_profile(angle, max_angular_velocity,\n",
    "                           max_angular_acceleration, time_period)\n",
    "    return complete_profile(profile, radius, linear_velocity, robot, time_period)\n",
    "\n",
    "\n",
    "def static_profile(angle, force, robot, time_period):\n",
    "    angular_acceleration = force * robot.wheels_separation / robot.moment_of_inertia\n",
    "    max_angular_velocity = sqrt(abs(angle) / 2 * angular_acceleration)\n",
    "    max_angular_velocity = min(max_angular_velocity,\n",
    "                               robot.max_angular_velocity)\n",
    "    profile = turn_profile(angle, max_angular_velocity,\n",
    "                           angular_acceleration, time_period)\n",
    "    return complete_profile(profile, 0., 0., robot, time_period)\n",
    "\n",
    "\n",
    "def describe(profile):\n",
    "    print('Final position: (%.5f, %.5f)' % (profile['x'].iloc[-1], profile['y'].iloc[-1]))\n",
    "    angular = profile['angular_velocity']\n",
    "    step = profile['linear_velocity'].iloc[0] * profile['period'].iloc[0]\n",
    "    arc = profile['arc'].sum() * step\n",
    "    transition = (~profile['arc']).sum() * step / 2\n",
    "    print('{xxx, xxx, %.5f, %.5f, %.5f, xxx}' % (profile['radius'].iloc[0], transition, arc))\n",
    "\n",
    "\n",
    "def plot_profile(profile):\n",
    "    profile[['centrifugal_force', 'angular_acceleration_force', 'total_force']].plot(style='.-')\n",
    "    profile[['angular_velocity']].plot(style='.-')\n",
    "    profile[['angle']].plot(style='.-')\n",
    "    pyplot.figure(figsize=(6, 6))\n",
    "    pyplot.plot(profile['x'], profile['y'], '.-')\n",
    "    pyplot.show()"
   ]
  },
  {
   "cell_type": "code",
   "execution_count": null,
   "metadata": {},
   "outputs": [],
   "source": [
    "time_period = 0.00001\n",
    "\n",
    "bulebule = RobotPhysics(\n",
    "    mass=0.110,\n",
    "    moment_of_inertia=(0.110 * 0.05 ** 2) / 2,\n",
    "    wheels_separation=0.065,\n",
    "    max_angular_velocity=20,\n",
    ")"
   ]
  },
  {
   "cell_type": "markdown",
   "metadata": {},
   "source": [
    "## Static turns"
   ]
  },
  {
   "cell_type": "code",
   "execution_count": null,
   "metadata": {
    "scrolled": true
   },
   "outputs": [],
   "source": [
    "max_angular_velocity = 10.\n",
    "profile = static_profile(\n",
    "    angle=pi,\n",
    "    force=0.25,\n",
    "    robot=bulebule,\n",
    "    time_period=time_period)\n",
    "describe(profile)"
   ]
  },
  {
   "cell_type": "markdown",
   "metadata": {},
   "source": [
    "## Search turn"
   ]
  },
  {
   "cell_type": "code",
   "execution_count": null,
   "metadata": {
    "scrolled": false
   },
   "outputs": [],
   "source": [
    "profile = dynamic_profile(\n",
    "    angle=pi/2,\n",
    "    force=0.25,\n",
    "    radius=0.04921,\n",
    "    robot=bulebule,\n",
    "    time_period=time_period,\n",
    ")\n",
    "describe(profile)"
   ]
  },
  {
   "cell_type": "markdown",
   "metadata": {},
   "source": [
    "## 90º turn"
   ]
  },
  {
   "cell_type": "code",
   "execution_count": null,
   "metadata": {
    "scrolled": false
   },
   "outputs": [],
   "source": [
    "profile = dynamic_profile(\n",
    "    angle=pi/2,\n",
    "    force=0.25,\n",
    "    radius=0.1172,\n",
    "    robot=bulebule,\n",
    "    time_period=time_period,\n",
    ")\n",
    "describe(profile)"
   ]
  },
  {
   "cell_type": "markdown",
   "metadata": {},
   "source": [
    "## 180º turn"
   ]
  },
  {
   "cell_type": "code",
   "execution_count": null,
   "metadata": {},
   "outputs": [],
   "source": []
  },
  {
   "cell_type": "markdown",
   "metadata": {},
   "source": [
    "## Turn to 45º"
   ]
  },
  {
   "cell_type": "code",
   "execution_count": null,
   "metadata": {},
   "outputs": [],
   "source": []
  },
  {
   "cell_type": "markdown",
   "metadata": {},
   "source": [
    "## Turn to 135º"
   ]
  },
  {
   "cell_type": "code",
   "execution_count": null,
   "metadata": {},
   "outputs": [],
   "source": []
  },
  {
   "cell_type": "markdown",
   "metadata": {},
   "source": [
    "## Turn diagonal 90º"
   ]
  },
  {
   "cell_type": "code",
   "execution_count": null,
   "metadata": {},
   "outputs": [],
   "source": []
  }
 ],
 "metadata": {
  "kernelspec": {
   "display_name": "Python 3",
   "language": "python",
   "name": "python3"
  },
  "language_info": {
   "codemirror_mode": {
    "name": "ipython",
    "version": 3
   },
   "file_extension": ".py",
   "mimetype": "text/x-python",
   "name": "python",
   "nbconvert_exporter": "python",
   "pygments_lexer": "ipython3",
   "version": "3.7.2"
  }
 },
 "nbformat": 4,
 "nbformat_minor": 2
}
