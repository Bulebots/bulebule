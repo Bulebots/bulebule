{
 "cells": [
  {
   "cell_type": "markdown",
   "metadata": {},
   "source": [
    "# Slalom turns"
   ]
  },
  {
   "cell_type": "code",
   "execution_count": null,
   "metadata": {},
   "outputs": [],
   "source": [
    "%matplotlib inline"
   ]
  },
  {
   "cell_type": "code",
   "execution_count": null,
   "metadata": {},
   "outputs": [],
   "source": [
    "from matplotlib import pyplot\n",
    "\n",
    "\n",
    "pyplot.style.use('seaborn')"
   ]
  },
  {
   "cell_type": "code",
   "execution_count": null,
   "metadata": {},
   "outputs": [],
   "source": [
    "from trajectory import Maze\n",
    "from trajectory import RobotPhysics\n",
    "from trajectory import Simulator\n",
    "from trajectory import pi\n",
    "\n",
    "\n",
    "classic = Maze(cell=0.18, post=0.012)\n",
    "half = Maze(cell=0.09, post=0.006)\n",
    "\n",
    "bulebule = RobotPhysics(\n",
    "    mass=0.110,\n",
    "    moment_of_inertia=(0.110 * 0.05 ** 2) / 2,\n",
    "    wheels_separation=0.065,\n",
    "    max_angular_velocity=20,\n",
    ")\n",
    "\n",
    "simulate = Simulator(robot=bulebule, maze=classic, time_period=0.00001)"
   ]
  },
  {
   "cell_type": "markdown",
   "metadata": {},
   "source": [
    "## Static turns"
   ]
  },
  {
   "cell_type": "code",
   "execution_count": null,
   "metadata": {
    "scrolled": false
   },
   "outputs": [],
   "source": [
    "profile = simulate.inplace(angle=pi)\n",
    "profile.plot_forces()"
   ]
  },
  {
   "cell_type": "markdown",
   "metadata": {},
   "source": [
    "## Search turn"
   ]
  },
  {
   "cell_type": "code",
   "execution_count": null,
   "metadata": {
    "scrolled": false
   },
   "outputs": [],
   "source": [
    "profile = simulate.slalom(\n",
    "    entry=(0, -.5, 0),\n",
    "    exit=(.5, 0, pi/2),\n",
    "    radius=0.04921,\n",
    ")\n",
    "profile.describe()\n",
    "profile.plot_trajectory()"
   ]
  },
  {
   "cell_type": "markdown",
   "metadata": {},
   "source": [
    "## 90º turn"
   ]
  },
  {
   "cell_type": "code",
   "execution_count": null,
   "metadata": {
    "scrolled": false
   },
   "outputs": [],
   "source": [
    "profile = simulate.slalom(\n",
    "    entry=(0, -.5, 0),\n",
    "    exit=(.5, 0, pi/2),\n",
    "    radius=0.1172,\n",
    ")\n",
    "profile.describe()\n",
    "profile.plot_trajectory()"
   ]
  },
  {
   "cell_type": "markdown",
   "metadata": {},
   "source": [
    "## 180º turn"
   ]
  },
  {
   "cell_type": "code",
   "execution_count": null,
   "metadata": {},
   "outputs": [],
   "source": [
    "profile = simulate.slalom(\n",
    "    entry=(0, -.5, 0),\n",
    "    exit=(0, .5, pi),\n",
    "    radius=0.08882,\n",
    "    shift=(-0.05, 0),\n",
    ")\n",
    "profile.describe()\n",
    "profile.plot_trajectory()"
   ]
  },
  {
   "cell_type": "markdown",
   "metadata": {},
   "source": [
    "## Turn to 45º"
   ]
  },
  {
   "cell_type": "code",
   "execution_count": null,
   "metadata": {},
   "outputs": [],
   "source": [
    "profile = simulate.slalom(\n",
    "    entry=(0, -.5, 0),\n",
    "    exit=(.5, 0, pi/4),\n",
    "    radius=0.12,\n",
    ")\n",
    "profile.describe()\n",
    "profile.plot_trajectory()"
   ]
  },
  {
   "cell_type": "markdown",
   "metadata": {},
   "source": [
    "## Turn to 135º"
   ]
  },
  {
   "cell_type": "code",
   "execution_count": null,
   "metadata": {},
   "outputs": [],
   "source": [
    "profile = simulate.slalom(\n",
    "    entry=(0, -.5, 0),\n",
    "    exit=(0, .5, 3/4*pi),\n",
    "    radius=0.0767,\n",
    ")\n",
    "profile.describe()\n",
    "profile.plot_trajectory()"
   ]
  },
  {
   "cell_type": "markdown",
   "metadata": {},
   "source": [
    "## Turn diagonal 90º"
   ]
  },
  {
   "cell_type": "code",
   "execution_count": null,
   "metadata": {},
   "outputs": [],
   "source": [
    "profile = simulate.slalom(\n",
    "    entry=(0, -.5, pi/4),\n",
    "    exit=(0, .5, 3/4*pi),\n",
    "    radius=0.08,\n",
    ")\n",
    "profile.describe()\n",
    "profile.plot_trajectory()"
   ]
  }
 ],
 "metadata": {
  "kernelspec": {
   "display_name": "Python 3",
   "language": "python",
   "name": "python3"
  },
  "language_info": {
   "codemirror_mode": {
    "name": "ipython",
    "version": 3
   },
   "file_extension": ".py",
   "mimetype": "text/x-python",
   "name": "python",
   "nbconvert_exporter": "python",
   "pygments_lexer": "ipython3",
   "version": "3.7.2"
  }
 },
 "nbformat": 4,
 "nbformat_minor": 2
}
