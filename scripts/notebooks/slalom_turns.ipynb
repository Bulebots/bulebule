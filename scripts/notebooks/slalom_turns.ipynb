{
 "cells": [
  {
   "cell_type": "markdown",
   "metadata": {},
   "source": [
    "# Slalom turns"
   ]
  },
  {
   "cell_type": "code",
   "execution_count": null,
   "metadata": {},
   "outputs": [],
   "source": [
    "%matplotlib inline"
   ]
  },
  {
   "cell_type": "code",
   "execution_count": null,
   "metadata": {},
   "outputs": [],
   "source": [
    "from matplotlib import pyplot\n",
    "\n",
    "\n",
    "pyplot.style.use('seaborn')"
   ]
  },
  {
   "cell_type": "code",
   "execution_count": null,
   "metadata": {},
   "outputs": [],
   "source": [
    "from trajectory import Line\n",
    "from trajectory import lines_intersection"
   ]
  },
  {
   "cell_type": "code",
   "execution_count": null,
   "metadata": {},
   "outputs": [],
   "source": [
    "from dataclasses import dataclass\n",
    "\n",
    "from matplotlib.patches import Rectangle\n",
    "from numpy import array\n",
    "from numpy import cos\n",
    "from numpy import pi\n",
    "from numpy import sin\n",
    "from numpy import sign\n",
    "from numpy import sqrt\n",
    "from numpy import tan\n",
    "from numpy.linalg import norm\n",
    "from pandas import DataFrame\n",
    "\n",
    "\n",
    "@dataclass\n",
    "class Maze:\n",
    "    cell: float\n",
    "    post: float\n",
    "    \n",
    "\n",
    "@dataclass\n",
    "class RobotPhysics:\n",
    "    mass: float\n",
    "    moment_of_inertia: float\n",
    "    wheels_separation: float\n",
    "    max_angular_velocity: float\n",
    "\n",
    "\n",
    "class TurnProfile:\n",
    "    def __init__(self, profile):\n",
    "        self.profile = profile\n",
    "\n",
    "    def plot_forces(self):\n",
    "        self.profile[['centrifugal_force', 'angular_acceleration_force', 'total_force']].plot(style='.-')\n",
    "\n",
    "\n",
    "class SlalomTurnProfile(TurnProfile):\n",
    "    def __init__(self, profile, entry, exit, maze):\n",
    "        super().__init__(profile)\n",
    "        self.entry = entry\n",
    "        self.exit = exit\n",
    "        self.maze = maze\n",
    "\n",
    "    def describe(self):\n",
    "        print('Turn completed in %.3f seconds' % self.profile.index[-1])\n",
    "        print('Finished at (%.5f, %.5f)' % tuple(self.profile[['x', 'y']].iloc[-1].values))\n",
    "        step = self.profile['linear_velocity'].iloc[0] * self.profile['period'].iloc[0]\n",
    "        before = norm(self.profile[['x_shift', 'y_shift']].iloc[0].values -\n",
    "                      self.entry.reference)\n",
    "        before *= sign(norm(self.profile[['x_shift', 'y_shift']].iloc[1].values -\n",
    "                            self.entry.reference) - before)\n",
    "        after = norm(self.profile[['x_shift', 'y_shift']].iloc[-1].values -\n",
    "                     self.exit.reference)\n",
    "        after *= sign(norm(self.profile[['x_shift', 'y_shift']].iloc[-2].values -\n",
    "                           self.exit.reference) - after)\n",
    "        radius = self.profile['radius'].iloc[0]\n",
    "        transition = (~self.profile['arc']).sum() * step / 2\n",
    "        arc = self.profile['arc'].sum() * step\n",
    "        print('Parameters: {%.5f, %.5f, %.5f, %.5f, %.5f, xxx}' % (before, after, radius, transition, arc))\n",
    "\n",
    "    def plot_trajectory(self):\n",
    "        figure, axes = pyplot.subplots(1, figsize=(8, 8), subplot_kw={'aspect': 'equal'})\n",
    "        post = self.maze.post\n",
    "        axes.add_patch(Rectangle((-post / 2, -post / 2), post, post))\n",
    "        axes.plot(self.profile['x_shift'], self.profile['y_shift'], '.-')\n",
    "        pyplot.show()\n",
    "\n",
    "\n",
    "def turn_shift(entry, exit, profile):\n",
    "    expected = lines_intersection(entry, exit)\n",
    "    start = Line(**profile[['x', 'y']].iloc[0].to_dict(), angle=entry.angle)\n",
    "    stop = Line(**profile[['x', 'y']].iloc[-1].to_dict(), angle=exit.angle)\n",
    "    actual = lines_intersection(start, stop)\n",
    "    return expected - actual\n",
    "\n",
    "\n",
    "def turn_profile(angle, max_angular_velocity,\n",
    "                 max_angular_acceleration, time_period):\n",
    "    duration = max_angular_velocity / max_angular_acceleration * pi\n",
    "    transition_angle = duration * max_angular_velocity / pi\n",
    "    arc = (abs(angle) - 2 * transition_angle) / max_angular_velocity\n",
    "    transition = duration / 2\n",
    "    max_angular_velocity = max_angular_velocity * sign(angle)\n",
    "\n",
    "    angular_velocity = [0]\n",
    "    time = [0]\n",
    "    while True:\n",
    "        if time[-1] >= 2 * transition + arc:\n",
    "            break\n",
    "        new_angular_velocity = max_angular_velocity\n",
    "        if time[-1] < transition:\n",
    "            factor = time[-1] / transition\n",
    "            new_angular_velocity *= sin(factor * pi / 2)\n",
    "        elif time[-1] >= transition + arc:\n",
    "            factor = (time[-1] - arc) / transition\n",
    "            new_angular_velocity *= sin(factor * pi / 2)\n",
    "        angular_velocity.append(new_angular_velocity)\n",
    "        time.append(time[-1] + time_period)\n",
    "\n",
    "    profile = DataFrame({'angular_velocity': angular_velocity})\n",
    "    profile['arc'] = profile['angular_velocity'] == max_angular_velocity\n",
    "    return profile\n",
    "\n",
    "\n",
    "def complete_profile(profile, angle, radius, linear_velocity, robot, time_period):\n",
    "    profile['radius'] = radius\n",
    "    profile['period'] = time_period\n",
    "    profile['linear_velocity'] = linear_velocity\n",
    "    profile['angle'] = (profile['angular_velocity'] * profile['period']).cumsum() + angle\n",
    "    profile['x'] = (profile['linear_velocity'] * cos(profile['angle']) * profile['period']).cumsum()\n",
    "    profile['y'] = (profile['linear_velocity'] * sin(profile['angle']) * profile['period']).cumsum()\n",
    "    profile['centrifugal_force'] = robot.mass * profile['linear_velocity'] * profile['angular_velocity'] / 2\n",
    "    angular_acceleration = profile['angular_velocity'].diff() / profile['period']\n",
    "    profile['angular_acceleration_force'] = \\\n",
    "        (robot.moment_of_inertia * angular_acceleration / robot.wheels_separation).abs()\n",
    "    profile['total_force'] = sqrt(profile['centrifugal_force'] ** 2 + profile['angular_acceleration_force'] ** 2)\n",
    "    profile['time'] = profile['period'].cumsum()\n",
    "    profile = profile.set_index('time')\n",
    "    return profile\n",
    "\n",
    "\n",
    "class Simulator:\n",
    "    def __init__(self, robot, maze, time_period):\n",
    "        self.robot = robot\n",
    "        self.maze = maze\n",
    "        self.time_period = time_period\n",
    "    \n",
    "    def inplace(self, angle, force=0.25):\n",
    "        angular_acceleration = force * self.robot.wheels_separation / self.robot.moment_of_inertia\n",
    "        max_angular_velocity = sqrt(abs(angle) / 2 * angular_acceleration)\n",
    "        max_angular_velocity = min(max_angular_velocity,\n",
    "                                   self.robot.max_angular_velocity)\n",
    "        profile = turn_profile(angle, max_angular_velocity,\n",
    "                               angular_acceleration, self.time_period)\n",
    "        profile = complete_profile(profile, 0., 0., 0., self.robot, self.time_period)\n",
    "        return TurnProfile(profile)\n",
    "\n",
    "    def slalom(self, entry, exit, radius, force=0.25, shift=None):\n",
    "        x, y, angle = entry\n",
    "        entry = Line(x=x*self.maze.cell, y=y*self.maze.cell, angle=angle)\n",
    "        x, y, angle = exit\n",
    "        exit = Line(x=x*self.maze.cell, y=y*self.maze.cell, angle=angle)\n",
    "        angle = exit.angle - entry.angle\n",
    "        linear_velocity = sqrt(2 * force * radius / self.robot.mass)\n",
    "        max_angular_velocity = linear_velocity / radius\n",
    "        max_angular_velocity = min(max_angular_velocity,\n",
    "                                   self.robot.max_angular_velocity)\n",
    "        max_angular_acceleration = force * self.robot.wheels_separation / self.robot.moment_of_inertia\n",
    "        max_angular_velocity_transition = sqrt(abs(angle) / 2 * max_angular_acceleration)\n",
    "        if max_angular_velocity_transition < max_angular_velocity:\n",
    "            raise ValueError\n",
    "        profile = turn_profile(angle, max_angular_velocity,\n",
    "                               max_angular_acceleration, self.time_period)\n",
    "        profile = complete_profile(profile, entry.angle, radius, linear_velocity, self.robot, self.time_period)\n",
    "        if shift is None:\n",
    "            shift = turn_shift(entry, exit, profile)\n",
    "        else:\n",
    "            shift += entry.reference\n",
    "        profile['x_shift'] = profile['x'] + shift[0]\n",
    "        profile['y_shift'] = profile['y'] +  shift[1]\n",
    "        return SlalomTurnProfile(profile, entry, exit, self.maze)"
   ]
  },
  {
   "cell_type": "code",
   "execution_count": null,
   "metadata": {},
   "outputs": [],
   "source": [
    "classic = Maze(cell=0.18, post=0.012)\n",
    "half = Maze(cell=0.09, post=0.006)\n",
    "\n",
    "bulebule = RobotPhysics(\n",
    "    mass=0.110,\n",
    "    moment_of_inertia=(0.110 * 0.05 ** 2) / 2,\n",
    "    wheels_separation=0.065,\n",
    "    max_angular_velocity=20,\n",
    ")"
   ]
  },
  {
   "cell_type": "code",
   "execution_count": null,
   "metadata": {},
   "outputs": [],
   "source": [
    "simulate = Simulator(robot=bulebule, maze=classic, time_period=0.00001)"
   ]
  },
  {
   "cell_type": "markdown",
   "metadata": {},
   "source": [
    "## Static turns"
   ]
  },
  {
   "cell_type": "code",
   "execution_count": null,
   "metadata": {
    "scrolled": false
   },
   "outputs": [],
   "source": [
    "profile = simulate.inplace(angle=pi)\n",
    "profile.plot_forces()"
   ]
  },
  {
   "cell_type": "markdown",
   "metadata": {},
   "source": [
    "## Search turn"
   ]
  },
  {
   "cell_type": "code",
   "execution_count": null,
   "metadata": {
    "scrolled": false
   },
   "outputs": [],
   "source": [
    "profile = simulate.slalom(\n",
    "    entry=(0, -.5, 0),\n",
    "    exit=(.5, 0, pi/2),\n",
    "    radius=0.04921,\n",
    ")\n",
    "profile.describe()\n",
    "profile.plot_trajectory()"
   ]
  },
  {
   "cell_type": "markdown",
   "metadata": {},
   "source": [
    "## 90º turn"
   ]
  },
  {
   "cell_type": "code",
   "execution_count": null,
   "metadata": {
    "scrolled": false
   },
   "outputs": [],
   "source": [
    "profile = simulate.slalom(\n",
    "    entry=(0, -.5, 0),\n",
    "    exit=(.5, 0, pi/2),\n",
    "    radius=0.1172,\n",
    ")\n",
    "profile.describe()\n",
    "profile.plot_trajectory()"
   ]
  },
  {
   "cell_type": "markdown",
   "metadata": {},
   "source": [
    "## 180º turn"
   ]
  },
  {
   "cell_type": "code",
   "execution_count": null,
   "metadata": {},
   "outputs": [],
   "source": [
    "profile = simulate.slalom(\n",
    "    entry=(0, -.5, 0),\n",
    "    exit=(0, .5, pi),\n",
    "    radius=0.08882,\n",
    "    shift=array((-0.05, 0))\n",
    ")\n",
    "profile.describe()\n",
    "profile.plot_trajectory()"
   ]
  },
  {
   "cell_type": "markdown",
   "metadata": {},
   "source": [
    "## Turn to 45º"
   ]
  },
  {
   "cell_type": "code",
   "execution_count": null,
   "metadata": {},
   "outputs": [],
   "source": [
    "profile = simulate.slalom(\n",
    "    entry=(0, -.5, 0),\n",
    "    exit=(.5, 0, pi/4),\n",
    "    radius=0.12,\n",
    ")\n",
    "profile.describe()\n",
    "profile.plot_trajectory()"
   ]
  },
  {
   "cell_type": "markdown",
   "metadata": {},
   "source": [
    "## Turn to 135º"
   ]
  },
  {
   "cell_type": "code",
   "execution_count": null,
   "metadata": {},
   "outputs": [],
   "source": [
    "profile = simulate.slalom(\n",
    "    entry=(0, -.5, 0),\n",
    "    exit=(0, .5, 3/4*pi),\n",
    "    radius=0.0767,\n",
    ")\n",
    "profile.describe()\n",
    "profile.plot_trajectory()"
   ]
  },
  {
   "cell_type": "markdown",
   "metadata": {},
   "source": [
    "## Turn diagonal 90º"
   ]
  },
  {
   "cell_type": "code",
   "execution_count": null,
   "metadata": {},
   "outputs": [],
   "source": [
    "profile = simulate.slalom(\n",
    "    entry=(0, -.5, pi/4),\n",
    "    exit=(0, .5, 3/4*pi),\n",
    "    radius=0.08,\n",
    ")\n",
    "profile.describe()\n",
    "profile.plot_trajectory()"
   ]
  }
 ],
 "metadata": {
  "kernelspec": {
   "display_name": "Python 3",
   "language": "python",
   "name": "python3"
  },
  "language_info": {
   "codemirror_mode": {
    "name": "ipython",
    "version": 3
   },
   "file_extension": ".py",
   "mimetype": "text/x-python",
   "name": "python",
   "nbconvert_exporter": "python",
   "pygments_lexer": "ipython3",
   "version": "3.7.2"
  }
 },
 "nbformat": 4,
 "nbformat_minor": 2
}
