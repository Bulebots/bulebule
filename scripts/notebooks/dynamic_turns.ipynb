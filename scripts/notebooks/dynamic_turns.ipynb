{
 "cells": [
  {
   "cell_type": "code",
   "execution_count": null,
   "metadata": {},
   "outputs": [],
   "source": [
    "%matplotlib inline"
   ]
  },
  {
   "cell_type": "code",
   "execution_count": null,
   "metadata": {},
   "outputs": [],
   "source": [
    "from matplotlib import pyplot\n",
    "\n",
    "\n",
    "pyplot.style.use('seaborn')"
   ]
  },
  {
   "cell_type": "code",
   "execution_count": null,
   "metadata": {},
   "outputs": [],
   "source": [
    "time_period = 0.00001\n",
    "mass = 0.110\n",
    "moment_of_inertia = (mass * 0.05 ** 2) / 2\n",
    "wheels_separation = 0.065"
   ]
  },
  {
   "cell_type": "code",
   "execution_count": null,
   "metadata": {},
   "outputs": [],
   "source": [
    "from numpy import cos\n",
    "from numpy import pi\n",
    "from numpy import sin\n",
    "from numpy import sign\n",
    "from numpy import sqrt\n",
    "from pandas import DataFrame\n",
    "\n",
    "\n",
    "def dynamic_profile(linear_speed, radius, transition, arc, time_period):\n",
    "    angular_velocity = [0]\n",
    "    distance = [linear_speed * time_period]\n",
    "    max_angular_velocity = linear_speed / radius\n",
    "\n",
    "    while True:\n",
    "        if distance[-1] >= 2 * transition + arc:\n",
    "            break\n",
    "        new_angular_velocity = max_angular_velocity\n",
    "        if distance[-1] < transition:\n",
    "            factor = distance[-1] / transition\n",
    "            new_angular_velocity *= sin(factor * pi / 2)\n",
    "        elif distance[-1] >= transition + arc:\n",
    "            factor = (distance[-1] - arc) / transition\n",
    "            new_angular_velocity *= sin(factor * pi / 2)\n",
    "        angular_velocity.append(new_angular_velocity)\n",
    "        distance.append(distance[-1] + linear_speed * time_period)\n",
    "    columns = {\n",
    "        'angular_velocity': angular_velocity,\n",
    "        'linear_velocity': linear_speed,\n",
    "        'period': time_period,\n",
    "    }\n",
    "    return DataFrame(columns)\n",
    "\n",
    "\n",
    "def static_profile(total_angle, force, wheels_separation, moment_of_inertia, max_angular_velocity, time_period):\n",
    "    turn_sign = sign(total_angle)\n",
    "    total_angle = abs(total_angle)\n",
    "    angular_acceleration = force * wheels_separation / moment_of_inertia\n",
    "    max_angular_velocity = min(max_angular_velocity,\n",
    "                               sqrt(total_angle / 2 * angular_acceleration))\n",
    "    duration = max_angular_velocity / angular_acceleration * pi\n",
    "    transition_angle = duration * max_angular_velocity / pi\n",
    "    arc = (total_angle - 2 * transition_angle) / max_angular_velocity\n",
    "    transition = duration / 2\n",
    "    max_angular_velocity = max_angular_velocity * turn_sign\n",
    "\n",
    "    angular_velocity = [0]\n",
    "    angle = [0]\n",
    "    time = [0]\n",
    "\n",
    "    while True:\n",
    "        if time[-1] >= 2 * transition + arc:\n",
    "            break\n",
    "        new_angular_velocity = max_angular_velocity\n",
    "        if time[-1] < transition:\n",
    "            factor = time[-1] / transition\n",
    "            new_angular_velocity *= sin(factor * pi / 2)\n",
    "        elif time[-1] >= transition + arc:\n",
    "            factor = (time[-1] - arc) / transition\n",
    "            new_angular_velocity *= sin(factor * pi / 2)\n",
    "        angular_velocity.append(new_angular_velocity)\n",
    "        time.append(time[-1] + time_period)\n",
    "        angle.append(angle[-1] + angular_velocity[-1] * time_period)\n",
    "\n",
    "    columns = {\n",
    "        'angular_velocity': angular_velocity,\n",
    "        'linear_velocity': 0,\n",
    "        'period': time_period,\n",
    "        'angle': angle,\n",
    "        \n",
    "    }\n",
    "    return DataFrame(columns)\n",
    "\n",
    "\n",
    "def complete_profile(profile, mass, moment_of_inertia, wheels_separation):\n",
    "    profile['angle'] = (profile['angular_velocity'] * profile['period']).cumsum()\n",
    "    profile['x'] = (profile['linear_velocity'] * cos(profile['angle']) * profile['period']).cumsum()\n",
    "    profile['y'] = (profile['linear_velocity'] * sin(profile['angle']) * profile['period']).cumsum()\n",
    "    profile['centrifugal_force'] = mass * profile['linear_velocity'] * profile['angular_velocity'] / 2\n",
    "    angular_acceleration = profile['angular_velocity'].diff() / profile['period']\n",
    "    profile['angular_acceleration_force'] = (moment_of_inertia * angular_acceleration / wheels_separation).abs()\n",
    "    profile['total_force'] = sqrt(profile['centrifugal_force'] ** 2 + profile['angular_acceleration_force'] ** 2)\n",
    "    profile['time'] = profile['period'].cumsum()\n",
    "    profile = profile.set_index('time')\n",
    "    return profile\n",
    "\n",
    "\n",
    "def plot_profile(profile):\n",
    "    x, y = profile['x'], profile['y']\n",
    "    print('Final position: (%.5f, %.5f)' % (x.iloc[-1], y.iloc[-1]))\n",
    "    \n",
    "    profile[['centrifugal_force', 'angular_acceleration_force', 'total_force']].plot(style='.-')\n",
    "    profile[['angular_velocity']].plot(style='.-')\n",
    "\n",
    "    pyplot.figure(figsize=(6, 6))\n",
    "    pyplot.plot(x, y, '.-')\n",
    "    pyplot.show()"
   ]
  },
  {
   "cell_type": "markdown",
   "metadata": {},
   "source": [
    "## Static turns"
   ]
  },
  {
   "cell_type": "code",
   "execution_count": null,
   "metadata": {},
   "outputs": [],
   "source": [
    "max_angular_velocity = 10.\n",
    "profile = static_profile(\n",
    "    pi / 2,\n",
    "    0.25,\n",
    "    wheels_separation,\n",
    "    moment_of_inertia,\n",
    "    max_angular_velocity,\n",
    "    time_period)\n",
    "\n",
    "profile = complete_profile(profile, mass, moment_of_inertia, wheels_separation)\n",
    "plot_profile(profile)\n",
    "profile[['angle']].plot(style='.-')"
   ]
  },
  {
   "cell_type": "markdown",
   "metadata": {},
   "source": [
    "## Search turn"
   ]
  },
  {
   "cell_type": "code",
   "execution_count": null,
   "metadata": {
    "scrolled": false
   },
   "outputs": [],
   "source": [
    "params = {\n",
    "    'linear_speed': .4627487,\n",
    "    'transition': 0.05812,\n",
    "    'radius': 0.04711,\n",
    "    'arc': 0.,\n",
    "    'time_period': time_period,\n",
    "}\n",
    "profile = dynamic_profile(**params)\n",
    "profile = complete_profile(profile, mass, moment_of_inertia, wheels_separation)\n",
    "plot_profile(profile)"
   ]
  },
  {
   "cell_type": "markdown",
   "metadata": {},
   "source": [
    "## 90º turn"
   ]
  },
  {
   "cell_type": "code",
   "execution_count": null,
   "metadata": {},
   "outputs": [],
   "source": [
    "params = {\n",
    "    'linear_speed': .8,\n",
    "    'angular_acceleration': 32 * pi,\n",
    "    'max_angular_velocity': 2.3 * pi,\n",
    "    'turn_angle': pi / 2,\n",
    "}\n",
    "\n",
    "\n",
    "plot_turn(**params)"
   ]
  },
  {
   "cell_type": "markdown",
   "metadata": {},
   "source": [
    "## 180º turn"
   ]
  },
  {
   "cell_type": "code",
   "execution_count": null,
   "metadata": {},
   "outputs": [],
   "source": [
    "params = {\n",
    "    'linear_speed': .7,\n",
    "    'angular_acceleration': 32 * pi,\n",
    "    'max_angular_velocity': 2.5 * pi,\n",
    "    'turn_angle': pi,\n",
    "}\n",
    "\n",
    "\n",
    "plot_turn(**params)"
   ]
  },
  {
   "cell_type": "markdown",
   "metadata": {},
   "source": [
    "# Turn to 45º"
   ]
  },
  {
   "cell_type": "code",
   "execution_count": null,
   "metadata": {},
   "outputs": [],
   "source": [
    "params = {\n",
    "    'linear_speed': .71,\n",
    "    'angular_acceleration': 32 * pi,\n",
    "    'max_angular_velocity': 2. * pi,\n",
    "    'turn_angle': pi / 4.,\n",
    "}\n",
    "\n",
    "\n",
    "plot_turn(**params)"
   ]
  },
  {
   "cell_type": "code",
   "execution_count": null,
   "metadata": {},
   "outputs": [],
   "source": [
    "before = 0.04978 - 0.11824\n",
    "before"
   ]
  },
  {
   "cell_type": "code",
   "execution_count": null,
   "metadata": {},
   "outputs": [],
   "source": [
    "after = (2 * (0.09 - 0.04978) ** 2) ** 0.5\n",
    "after"
   ]
  },
  {
   "cell_type": "markdown",
   "metadata": {},
   "source": [
    "## Turn to 135º"
   ]
  },
  {
   "cell_type": "code",
   "execution_count": null,
   "metadata": {},
   "outputs": [],
   "source": [
    "params = {\n",
    "    'linear_speed': .6,\n",
    "    'angular_acceleration': 32 * pi,\n",
    "    'max_angular_velocity': 2.5 * pi,\n",
    "    'turn_angle': 3 * pi / 4.,\n",
    "}\n",
    "\n",
    "\n",
    "plot_turn(**params)"
   ]
  },
  {
   "cell_type": "code",
   "execution_count": null,
   "metadata": {},
   "outputs": [],
   "source": [
    "before = (0.18 - 0.14936) - 0.06075\n",
    "before"
   ]
  },
  {
   "cell_type": "code",
   "execution_count": null,
   "metadata": {},
   "outputs": [],
   "source": [
    "after = (2 * (0.18 - 0.14936) ** 2) ** 0.5\n",
    "after"
   ]
  },
  {
   "cell_type": "markdown",
   "metadata": {},
   "source": [
    "## Turn diagonal 90º"
   ]
  },
  {
   "cell_type": "code",
   "execution_count": null,
   "metadata": {},
   "outputs": [],
   "source": [
    "params = {\n",
    "    'linear_speed': .6,\n",
    "    'angular_acceleration': 32 * pi,\n",
    "    'max_angular_velocity': 2.5 * pi,\n",
    "    'turn_angle': pi / 2.,\n",
    "}\n",
    "\n",
    "\n",
    "plot_turn(**params)"
   ]
  },
  {
   "cell_type": "markdown",
   "metadata": {},
   "source": [
    "Side:"
   ]
  },
  {
   "cell_type": "code",
   "execution_count": null,
   "metadata": {},
   "outputs": [],
   "source": [
    "(2 * 0.09 ** 2) ** 0.5"
   ]
  }
 ],
 "metadata": {
  "kernelspec": {
   "display_name": "Python 3",
   "language": "python",
   "name": "python3"
  },
  "language_info": {
   "codemirror_mode": {
    "name": "ipython",
    "version": 3
   },
   "file_extension": ".py",
   "mimetype": "text/x-python",
   "name": "python",
   "nbconvert_exporter": "python",
   "pygments_lexer": "ipython3",
   "version": "3.7.2"
  }
 },
 "nbformat": 4,
 "nbformat_minor": 2
}
