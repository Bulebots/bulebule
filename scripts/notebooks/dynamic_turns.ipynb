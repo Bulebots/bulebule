{
 "cells": [
  {
   "cell_type": "code",
   "execution_count": null,
   "metadata": {},
   "outputs": [],
   "source": [
    "from matplotlib import pyplot\n",
    "from numpy import (\n",
    "    array,\n",
    "    arange,\n",
    "    cos,\n",
    "    cumsum,\n",
    "    diff,\n",
    "    linspace,\n",
    "    pi,\n",
    "    sin,\n",
    "    where,\n",
    ")\n",
    "\n",
    "# Matplotlib configuration\n",
    "%matplotlib inline\n",
    "pyplot.style.use('seaborn')\n",
    "\n",
    "linear_speed = 0.448\n",
    "angular_acceleration = 32 * pi\n",
    "max_angular_speed = 3 * pi\n",
    "turn_angle = pi / 2\n",
    "time_period = 0.001\n",
    "\n",
    "tf = turn_angle / max_angular_speed / 2.\n",
    "\n",
    "angle = [0]\n",
    "angular_speed = [0]\n",
    "x_speed = [0]\n",
    "y_speed = [0]\n",
    "elapsed_time = 0\n",
    "\n",
    "while angle[-1] < turn_angle / 2.:\n",
    "    new_angular_speed = min(angular_speed[-1] + angular_acceleration * time_period, max_angular_speed)\n",
    "    new_angle = angle[-1] + new_angular_speed * time_period\n",
    "    new_x_speed = linear_speed * cos(new_angle) * time_period\n",
    "    new_y_speed = linear_speed * sin(new_angle) * time_period\n",
    "    angle.append(new_angle)\n",
    "    angular_speed.append(new_angular_speed)\n",
    "    x_speed.append(new_x_speed)\n",
    "    y_speed.append(new_y_speed)\n",
    "    elapsed_time += time_period\n",
    "\n",
    "x = cumsum(array(x_speed + y_speed[::-1][1:]))\n",
    "y = cumsum(array(y_speed + x_speed[::-1][1:]))\n",
    "angular_speed = array(angular_speed + angular_speed[::-1][1:])\n",
    "\n",
    "print('Raising time: %s' % where(diff(angular_speed) < 0.)[0][0])\n",
    "print('Elapsed time: %s' % (len(angular_speed) - 1))\n",
    "\n",
    "pyplot.plot(angular_speed)\n",
    "pyplot.show()\n",
    "\n",
    "pyplot.figure(figsize=(6, 6))\n",
    "pyplot.title('Final position: (%.5f, %.5f)' % (x.max(), y.max()))\n",
    "pyplot.plot(x, y)\n",
    "pyplot.show()"
   ]
  }
 ],
 "metadata": {
  "kernelspec": {
   "display_name": "Python 3",
   "language": "python",
   "name": "python3"
  },
  "language_info": {
   "codemirror_mode": {
    "name": "ipython",
    "version": 3
   },
   "file_extension": ".py",
   "mimetype": "text/x-python",
   "name": "python",
   "nbconvert_exporter": "python",
   "pygments_lexer": "ipython3",
   "version": "3.6.2"
  }
 },
 "nbformat": 4,
 "nbformat_minor": 2
}
