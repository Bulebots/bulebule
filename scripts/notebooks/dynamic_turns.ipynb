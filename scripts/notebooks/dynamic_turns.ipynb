{
 "cells": [
  {
   "cell_type": "code",
   "execution_count": null,
   "metadata": {},
   "outputs": [],
   "source": [
    "%matplotlib inline"
   ]
  },
  {
   "cell_type": "code",
   "execution_count": null,
   "metadata": {},
   "outputs": [],
   "source": [
    "from matplotlib import pyplot\n",
    "\n",
    "\n",
    "pyplot.style.use('seaborn')"
   ]
  },
  {
   "cell_type": "code",
   "execution_count": null,
   "metadata": {},
   "outputs": [],
   "source": [
    "from numpy import (\n",
    "    array,\n",
    "    arange,\n",
    "    concatenate,\n",
    "    cos,\n",
    "    cumsum,\n",
    "    diff,\n",
    "    linspace,\n",
    "    pi,\n",
    "    sin,\n",
    "    where,\n",
    ")\n",
    "\n",
    "\n",
    "def plot_turn(linear_speed, angular_acceleration, max_angular_speed, turn_angle):\n",
    "    time_period = 0.001\n",
    "    angle = [0]\n",
    "    tmpspeeds = [0]\n",
    "    angular_speed = [0]\n",
    "    x = [0]\n",
    "    y = [0]\n",
    "    elapsed_time = 0\n",
    "\n",
    "    while True:\n",
    "        if angle[-1] < turn_angle / 2.:\n",
    "            new_angular_speed = min(angular_speed[-1] + angular_acceleration * time_period, max_angular_speed)\n",
    "            tmpspeeds.append(new_angular_speed)\n",
    "        else:\n",
    "            if not len(tmpspeeds):\n",
    "                break\n",
    "            new_angular_speed = tmpspeeds.pop()\n",
    "        angular_speed.append(new_angular_speed)\n",
    "        new_angle = angle[-1] + new_angular_speed * time_period\n",
    "        angle.append(new_angle)\n",
    "        x.append(x[-1] + linear_speed * cos(new_angle) * time_period)\n",
    "        y.append(y[-1] + linear_speed * sin(new_angle) * time_period)\n",
    "        elapsed_time += time_period\n",
    "\n",
    "    omega = array(angular_speed)\n",
    "\n",
    "    print('Raising time: %s' % where(diff(omega) < 0.)[0][0])\n",
    "    print('Elapsed time: %s' % (len(omega) - 1))\n",
    "    print('Final position: (%.5f, %.5f)' % (max(x), max(y)))\n",
    "\n",
    "    pyplot.plot(omega)\n",
    "    pyplot.show()\n",
    "\n",
    "    pyplot.figure(figsize=(6, 6))\n",
    "    pyplot.title('Final position: (%.5f, %.5f)' % (max(x), max(y)))\n",
    "    pyplot.plot(x, y)\n",
    "    pyplot.show()"
   ]
  },
  {
   "cell_type": "code",
   "execution_count": null,
   "metadata": {},
   "outputs": [],
   "source": [
    "params = {\n",
    "    'linear_speed': 0.448,\n",
    "    'angular_acceleration': 32 * pi,\n",
    "    'max_angular_speed': 3 * pi,\n",
    "    'turn_angle': pi / 2,\n",
    "}\n",
    "\n",
    "\n",
    "plot_turn(**params)"
   ]
  },
  {
   "cell_type": "code",
   "execution_count": null,
   "metadata": {},
   "outputs": [],
   "source": [
    "params = {\n",
    "    'linear_speed': .9,\n",
    "    'angular_acceleration': 32 * pi,\n",
    "    'max_angular_speed': 3 * pi,\n",
    "    'turn_angle': pi / 2,\n",
    "}\n",
    "\n",
    "\n",
    "plot_turn(**params)"
   ]
  },
  {
   "cell_type": "code",
   "execution_count": null,
   "metadata": {},
   "outputs": [],
   "source": [
    "params = {\n",
    "    'linear_speed': .824,\n",
    "    'angular_acceleration': 32 * pi,\n",
    "    'max_angular_speed': 3 * pi,\n",
    "    'turn_angle': pi,\n",
    "}\n",
    "\n",
    "\n",
    "plot_turn(**params)"
   ]
  }
 ],
 "metadata": {
  "kernelspec": {
   "display_name": "Python 3",
   "language": "python",
   "name": "python3"
  },
  "language_info": {
   "codemirror_mode": {
    "name": "ipython",
    "version": 3
   },
   "file_extension": ".py",
   "mimetype": "text/x-python",
   "name": "python",
   "nbconvert_exporter": "python",
   "pygments_lexer": "ipython3",
   "version": "3.6.6"
  }
 },
 "nbformat": 4,
 "nbformat_minor": 2
}
