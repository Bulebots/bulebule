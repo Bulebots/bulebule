{
 "cells": [
  {
   "cell_type": "code",
   "execution_count": null,
   "metadata": {},
   "outputs": [],
   "source": [
    "%matplotlib inline\n",
    "\n",
    "from matplotlib import pyplot\n",
    "from numpy import (\n",
    "    array,\n",
    "    arange,\n",
    "    cos,\n",
    "    cumsum,\n",
    "    linspace,\n",
    "    pi,\n",
    "    sin,\n",
    ")\n",
    "\n",
    "linear_speed = 0.404\n",
    "angular_acceleration = 32 * pi\n",
    "angular_speed = 4 * pi\n",
    "turn_angle = pi / 2\n",
    "time_period = 0.001\n",
    "\n",
    "tf = turn_angle / angular_speed / 2.\n",
    "\n",
    "angle = [0]\n",
    "angular_speed = [0]\n",
    "x_speed = [0]\n",
    "y_speed = [0]\n",
    "\n",
    "while angle[-1] < turn_angle / 2.:\n",
    "    new_angular_speed = angular_speed[-1] + angular_acceleration * time_period\n",
    "    new_angle = angle[-1] + new_angular_speed * time_period\n",
    "    new_x_speed = linear_speed * cos(new_angle) * time_period\n",
    "    new_y_speed = linear_speed * sin(new_angle) * time_period\n",
    "    angle.append(new_angle)\n",
    "    angular_speed.append(new_angular_speed)\n",
    "    x_speed.append(new_x_speed)\n",
    "    y_speed.append(new_y_speed)\n",
    "\n",
    "x = cumsum(array(x_speed + y_speed[::-1]))\n",
    "y = cumsum(array(y_speed + x_speed[::-1]))\n",
    "\n",
    "pyplot.figure(figsize=(6, 6))\n",
    "pyplot.title('Final position: (%.5f, %.5f)' % (x.max(), y.max()))\n",
    "pyplot.plot(x, y)"
   ]
  }
 ],
 "metadata": {
  "kernelspec": {
   "display_name": "Python 3",
   "language": "python",
   "name": "python3"
  },
  "language_info": {
   "codemirror_mode": {
    "name": "ipython",
    "version": 3
   },
   "file_extension": ".py",
   "mimetype": "text/x-python",
   "name": "python",
   "nbconvert_exporter": "python",
   "pygments_lexer": "ipython3",
   "version": "3.6.2"
  }
 },
 "nbformat": 4,
 "nbformat_minor": 2
}
