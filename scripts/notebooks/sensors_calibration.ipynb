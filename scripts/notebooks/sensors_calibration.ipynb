{
 "cells": [
  {
   "cell_type": "markdown",
   "metadata": {},
   "source": [
    "## How to generate the logs"
   ]
  },
  {
   "cell_type": "markdown",
   "metadata": {},
   "source": [
    "Main.c:\n",
    "* each(150, log_sensors_raw, 1000);\n",
    "\n",
    "On bash to get data from serial:\n",
    "* echo '' >> log.txt && cat /dev/ttyUSB0 >> log.txt\n",
    "\n",
    "\n",
    "On bash to create different files from blank lines:\n",
    "* awk -v RS= '{print > (\"pos-\" NR \".txt\")}' log_front.txt"
   ]
  },
  {
   "cell_type": "code",
   "execution_count": null,
   "metadata": {
    "collapsed": true
   },
   "outputs": [],
   "source": [
    "import pandas\n",
    "import numpy\n",
    "import matplotlib.pyplot as plt\n",
    "import math\n",
    "from scipy.optimize import curve_fit"
   ]
  },
  {
   "cell_type": "markdown",
   "metadata": {},
   "source": [
    "## FRONT LOG"
   ]
  },
  {
   "cell_type": "code",
   "execution_count": null,
   "metadata": {
    "collapsed": true
   },
   "outputs": [],
   "source": [
    "mean_SL = []\n",
    "mean_SR = []\n",
    "mean_FL = []\n",
    "mean_FR = []\n",
    "for files in range (2,38,1):\n",
    "    df= pandas.read_csv('cfront1105/pos-{}.txt'.format(files),usecols=[5,6,7,8,9,10,11,12],\n",
    "                        names=['SL_Off', 'SR_Off','FL_Off','FR_Off','SL_On', 'SR_On','FL_On','FR_On'])\n",
    "    df['SL'] = df['SL_On'] - df['SL_Off']\n",
    "    df['SR'] = df['SR_On'] - df['SR_Off']\n",
    "    df['FL'] = df['FL_On'] - df['FL_Off']\n",
    "    df['FR'] = df['FR_On'] - df['FR_Off']\n",
    "    mean_SL.append(df['SL'].mean())\n",
    "    mean_SR.append(df['SR'].mean())\n",
    "    mean_FL.append(df['FL'].mean())\n",
    "    mean_FR.append(df['FR'].mean())"
   ]
  },
  {
   "cell_type": "code",
   "execution_count": null,
   "metadata": {
    "collapsed": true
   },
   "outputs": [],
   "source": [
    "num_samples = len(mean_SR)\n",
    "samples = list(range(num_samples))\n",
    "distance = [(x * 0.005 + 0.057) for x in samples]"
   ]
  },
  {
   "cell_type": "code",
   "execution_count": null,
   "metadata": {
    "collapsed": true
   },
   "outputs": [],
   "source": [
    "x = numpy.array(distance[4:num_samples])\n",
    "y_FR = numpy.array(mean_FR[4:num_samples])\n",
    "y_FL = numpy.array(mean_FL[4:num_samples])\n",
    "popt_FR, pcov_FR = curve_fit(lambda t,a,b: numpy.exp(a/(b+t)),  x,  y_FR)\n",
    "popt_FL, pcov_FL = curve_fit(lambda t,a,b: numpy.exp(a/(b+t)),  x,  y_FL)"
   ]
  },
  {
   "cell_type": "code",
   "execution_count": null,
   "metadata": {},
   "outputs": [],
   "source": [
    "f,(ax1,ax2) = plt.subplots(2, sharex=True, sharey= True)\n",
    "ax1.plot(distance,mean_FR)\n",
    "ax2.plot(distance,mean_FL)\n",
    "def fit_FR(x):\n",
    "    return numpy.exp(popt_FR[0]/(popt_FR[1]+x))\n",
    "ax1.plot(x, fit_FR(x))\n",
    "def fit_FL(x):\n",
    "    return numpy.exp(popt_FL[0]/(popt_FL[1]+x))\n",
    "ax2.plot(x, fit_FL(x))\n",
    "plt.show()\n",
    "print('FR_a {}, FR_b {}'.format(popt_FR[0],popt_FR[1]))\n",
    "print('FL_a {}, FL_b {}'.format(popt_FL[0],popt_FL[1]))"
   ]
  },
  {
   "cell_type": "markdown",
   "metadata": {},
   "source": [
    "## SIDE LOG"
   ]
  },
  {
   "cell_type": "code",
   "execution_count": null,
   "metadata": {
    "collapsed": true
   },
   "outputs": [],
   "source": [
    "mean_SL = []\n",
    "mean_SR = []\n",
    "mean_FL = []\n",
    "mean_FR = []\n",
    "#The log pos-1.txt is noise data\n",
    "for files in range (2,38,1):\n",
    "    df= pandas.read_csv('cside1105/pos-{}.txt'.format(files),usecols=[5,6,7,8,9,10,11,12],\n",
    "                        names=['SL_Off', 'SR_Off','FL_Off','FR_Off','SL_On', 'SR_On','FL_On','FR_On'])\n",
    "    df['SL'] = df['SL_On'] - df['SL_Off']\n",
    "    df['SR'] = df['SR_On'] - df['SR_Off']\n",
    "    df['FL'] = df['FL_On'] - df['FL_Off']\n",
    "    df['FR'] = df['FR_On'] - df['FR_Off']\n",
    "    mean_SL.append(df['SL'].mean())\n",
    "    mean_SR.append(df['SR'].mean())\n",
    "    mean_FL.append(df['FL'].mean())\n",
    "    mean_FR.append(df['FR'].mean())"
   ]
  },
  {
   "cell_type": "code",
   "execution_count": null,
   "metadata": {
    "collapsed": true
   },
   "outputs": [],
   "source": [
    "num_samples = len(mean_SL)\n",
    "samples = list(range(num_samples))\n",
    "distance = [(x * 0.005 + 0.043) for x in samples]\n",
    "\n",
    "x = numpy.array(distance[3:num_samples])\n",
    "y_SR = numpy.array(mean_SR[3:num_samples])\n",
    "y_SL = numpy.array(mean_SL[3:num_samples])\n",
    "popt_SR, pcov_SR = curve_fit(lambda t,a,b: numpy.exp(a/(b+t)),  x,  y_SR)\n",
    "popt_SL, pcov_SL = curve_fit(lambda t,a,b: numpy.exp(a/(b+t)),  x,  y_SL)"
   ]
  },
  {
   "cell_type": "code",
   "execution_count": null,
   "metadata": {},
   "outputs": [],
   "source": [
    "f,(ax3,ax4) = plt.subplots(2, sharex=True, sharey= True)\n",
    "ax3.plot(distance,mean_SR)\n",
    "ax4.plot(distance,mean_SL)\n",
    "def fit_SR(x):\n",
    "    return numpy.exp(popt_SR[0]/(popt_SR[1]+x))\n",
    "ax3.plot(x, fit_SR(x))\n",
    "def fit_SL(x):\n",
    "    return numpy.exp(popt_SL[0]/(popt_SL[1]+x))\n",
    "ax4.plot(x, fit_SL(x))\n",
    "plt.show()\n",
    "print('SR_a {}, SR_b {}'.format(popt_SR[0],popt_SR[1]))\n",
    "print('SL_a {}, SL_b {}'.format(popt_SL[0],popt_SL[1]))"
   ]
  },
  {
   "cell_type": "code",
   "execution_count": null,
   "metadata": {
    "collapsed": true
   },
   "outputs": [],
   "source": []
  }
 ],
 "metadata": {
  "kernelspec": {
   "display_name": "Python 3",
   "language": "python",
   "name": "python3"
  },
  "language_info": {
   "codemirror_mode": {
    "name": "ipython",
    "version": 3
   },
   "file_extension": ".py",
   "mimetype": "text/x-python",
   "name": "python",
   "nbconvert_exporter": "python",
   "pygments_lexer": "ipython3",
   "version": "3.6.3"
  }
 },
 "nbformat": 4,
 "nbformat_minor": 2
}
