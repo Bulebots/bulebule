{
 "cells": [
  {
   "cell_type": "markdown",
   "metadata": {},
   "source": [
    "acceleration\n",
    "\n",
    "$$\n",
    "F_α = {mα \\over 2}\n",
    "$$\n",
    "\n",
    "Angular acceleration\n",
    "\n",
    "$$\n",
    "F_{Δω} = {IΔω \\over 2T}\n",
    "$$\n",
    "\n",
    "Centrifugal force\n",
    "\n",
    "$$\n",
    "F_ω = {mvω \\over 2}\n",
    "$$\n",
    "\n",
    "However, T is the absolute value of the force applied to the left and right tires of the tread width is\n",
    "\n",
    "$$\n",
    "F_R = \\sqrt{(F_α + F_{Δω})^2 + F_ω^2} \\\\\n",
    "F_L = \\sqrt{(F_α - F_{Δω})^2 + F_ω^2}\n",
    "$$"
   ]
  },
  {
   "cell_type": "markdown",
   "metadata": {},
   "source": [
    "$$\n",
    "F = \\sqrt{\\left({I\\dot{\\omega} \\over 2T}\\right)^2 + \\left({mv\\omega \\over 2}\\right)^2}\n",
    "$$"
   ]
  },
  {
   "cell_type": "markdown",
   "metadata": {},
   "source": [
    "Peter:\n",
    "\n",
    "```\n",
    "angularVelocity = ( (long) turnAngularVelocity * sintable[512 * fwdCurrPos / lambda]) / 65536;\n",
    "```"
   ]
  },
  {
   "cell_type": "code",
   "execution_count": null,
   "metadata": {},
   "outputs": [],
   "source": [
    "%matplotlib inline"
   ]
  },
  {
   "cell_type": "code",
   "execution_count": null,
   "metadata": {},
   "outputs": [],
   "source": [
    "import sympy\n",
    "from sympy import Eq\n",
    "from sympy import solve\n",
    "from sympy import symbols\n",
    "from sympy.plotting import plot\n",
    "\n",
    "\n",
    "\n",
    "sympy.init_printing()"
   ]
  },
  {
   "cell_type": "code",
   "execution_count": null,
   "metadata": {},
   "outputs": [],
   "source": [
    "mass, inertia, T, linear_velocity, parameter = symbols('m I T v lambda', positive=True)"
   ]
  },
  {
   "cell_type": "markdown",
   "metadata": {},
   "source": [
    "$$\n",
    "F = \\sqrt{\\left({I\\dot{\\omega} \\over 2T}\\right)^2 + \\left({mv\\omega \\over 2}\\right)^2}\n",
    "$$"
   ]
  },
  {
   "cell_type": "code",
   "execution_count": null,
   "metadata": {},
   "outputs": [],
   "source": [
    "from sympy import Function, Symbol, sin, sqrt\n",
    "\n",
    "x, max_angular_velocity = symbols('x omega_max', positive=True)\n",
    "#angular_velocity = Function('omega', real=True)(x)\n",
    "angular_velocity = max_angular_velocity * sin(x / parameter)\n",
    "angular_velocity"
   ]
  },
  {
   "cell_type": "code",
   "execution_count": null,
   "metadata": {},
   "outputs": [],
   "source": [
    "angular_acceleration = angular_velocity.diff(x)\n",
    "angular_acceleration"
   ]
  },
  {
   "cell_type": "code",
   "execution_count": null,
   "metadata": {},
   "outputs": [],
   "source": [
    "eq = sqrt(((inertia * angular_acceleration) / (2 * T)) ** 2 + (mass * linear_velocity * angular_velocity / 2) ** 2)\n",
    "eq"
   ]
  },
  {
   "cell_type": "code",
   "execution_count": null,
   "metadata": {},
   "outputs": [],
   "source": [
    "eq = sympy.simplify(eq)\n",
    "eq"
   ]
  },
  {
   "cell_type": "code",
   "execution_count": null,
   "metadata": {},
   "outputs": [],
   "source": [
    "param_value = 0.02\n",
    "substitutions = {\n",
    "    max_angular_velocity: 10,\n",
    "    inertia: (0.1 * 0.05 ** 2) / 2,\n",
    "    T: 0.04,\n",
    "    linear_velocity: 1,\n",
    "    parameter: param_value,\n",
    "    mass: 0.1,\n",
    "}\n",
    "fx = eq.subs(substitutions)\n",
    "fx"
   ]
  },
  {
   "cell_type": "code",
   "execution_count": null,
   "metadata": {},
   "outputs": [],
   "source": [
    "plot(fx, (x, 0, param_value * 3.14 / 2))"
   ]
  },
  {
   "cell_type": "code",
   "execution_count": null,
   "metadata": {},
   "outputs": [],
   "source": [
    "angular_velocity"
   ]
  },
  {
   "cell_type": "code",
   "execution_count": null,
   "metadata": {},
   "outputs": [],
   "source": [
    "from sympy import sin, cos, integrate\n",
    "\n",
    "\n",
    "v_x = linear_velocity * cos(integrate(angular_velocity, x))\n",
    "v_y = linear_velocity * sin(integrate(angular_velocity, x))\n",
    "\n",
    "v_x, v_y"
   ]
  },
  {
   "cell_type": "code",
   "execution_count": null,
   "metadata": {},
   "outputs": [],
   "source": [
    "p_x = integrate(v_x, x)\n",
    "p_y = integrate(v_y, x)\n",
    "\n",
    "p_x, p_y"
   ]
  },
  {
   "cell_type": "code",
   "execution_count": null,
   "metadata": {},
   "outputs": [],
   "source": [
    "from sympy.plotting import plot_parametric\n",
    "\n",
    "\n",
    "plot_parametric(p_x.subs(substitutions), p_y.subs(substitutions), (x, 0, param_value * 3.14 / 2),\n",
    "                xlim=(0.9, 1), ylim=(-0.2, 0))"
   ]
  }
 ],
 "metadata": {
  "kernelspec": {
   "display_name": "Python 3",
   "language": "python",
   "name": "python3"
  },
  "language_info": {
   "codemirror_mode": {
    "name": "ipython",
    "version": 3
   },
   "file_extension": ".py",
   "mimetype": "text/x-python",
   "name": "python",
   "nbconvert_exporter": "python",
   "pygments_lexer": "ipython3",
   "version": "3.7.2"
  }
 },
 "nbformat": 4,
 "nbformat_minor": 2
}
